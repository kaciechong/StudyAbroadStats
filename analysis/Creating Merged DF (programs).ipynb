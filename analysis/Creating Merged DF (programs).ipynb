{
 "cells": [
  {
   "cell_type": "code",
   "execution_count": 279,
   "id": "f290cb2a-fc84-449d-b218-48c238538a32",
   "metadata": {},
   "outputs": [],
   "source": [
    "import pandas as pd"
   ]
  },
  {
   "cell_type": "code",
   "execution_count": 280,
   "id": "798a229c-4582-4a96-87b6-fec527eecaaa",
   "metadata": {},
   "outputs": [],
   "source": [
    "## Cleaning Programs df"
   ]
  },
  {
   "cell_type": "code",
   "execution_count": 281,
   "id": "996ce54e-bf16-402d-8aea-060a37f4c29d",
   "metadata": {},
   "outputs": [],
   "source": [
    "Programs = pd.read_csv('/Users/kaciechong/Desktop/Nexus/Programs.csv')"
   ]
  },
  {
   "cell_type": "code",
   "execution_count": 282,
   "id": "27ded30c-5af6-4bb5-a88b-f8da32d3985a",
   "metadata": {},
   "outputs": [],
   "source": [
    "Programs['Country'] = Programs['Country'].str.lower()"
   ]
  },
  {
   "cell_type": "code",
   "execution_count": 283,
   "id": "67dec99d-6f07-454b-b51c-03c068b9c1f9",
   "metadata": {},
   "outputs": [],
   "source": [
    "Programs = Programs.drop('Unnamed: 12', axis=1)\n",
    "Programs = Programs.drop('Sophomores?', axis=1)\n",
    "Programs = Programs.drop('UCEAP Program Type', axis=1)\n",
    "Programs = Programs.drop('Broad Field of Study', axis=1)\n",
    "Programs = Programs.drop('Academic Year', axis=1)\n",
    "Programs = Programs.drop('Notes', axis=1)\n",
    "Programs = Programs.drop('UCEAP/ Campus', axis=1)\n",
    "Programs = Programs.drop('Term', axis=1)\n",
    "Programs = Programs.drop('Internship: Required or Optional', axis=1)"
   ]
  },
  {
   "cell_type": "code",
   "execution_count": 284,
   "id": "114c1247-aae7-41ff-aa63-f53a305a1b54",
   "metadata": {},
   "outputs": [],
   "source": [
    "Programs = Programs.drop_duplicates(subset=['Country', 'Program Title', 'GPA', 'English-language instruction?'])"
   ]
  },
  {
   "cell_type": "code",
   "execution_count": 285,
   "id": "f92df97e-8487-4be9-b1eb-03c4bc2fe444",
   "metadata": {},
   "outputs": [],
   "source": [
    "Programs['Country'] = Programs['Country'].str.split(', ')\n",
    "\n",
    "Programs = Programs.explode('Country').reset_index(drop=True)\n",
    "\n",
    "Programs['Country'] = Programs['Country'].str.split('/')\n",
    "\n",
    "Programs = Programs.explode('Country').reset_index(drop=True)\n",
    "\n",
    "Programs['Country'] = Programs['Country'].str.split(' and ')\n",
    "\n",
    "Programs = Programs.explode('Country').reset_index(drop=True)"
   ]
  },
  {
   "cell_type": "code",
   "execution_count": 286,
   "id": "afbc5d17-89ef-4965-9aca-4f92f8448b4b",
   "metadata": {},
   "outputs": [],
   "source": [
    "Programs['Country'] = Programs['Country'].replace({\n",
    "    'uk - england': 'united kingdom - england',\n",
    "    'uk-england': 'united kingdom - england',\n",
    "    'uk-scotland': 'united kingdom - scotland',\n",
    "    'uk - scotland': 'united kingdom - scotland',\n",
    "})"
   ]
  },
  {
   "cell_type": "code",
   "execution_count": 287,
   "id": "21d606e1-a501-4d3b-b828-aa2871df96bf",
   "metadata": {},
   "outputs": [],
   "source": [
    "uk_rows = Programs[Programs['Country'].str.lower() == 'united kingdom']\n",
    "\n",
    "scotland_rows = uk_rows.copy()\n",
    "scotland_rows['Country'] = 'united kingdom - scotland'\n",
    "\n",
    "england_rows = uk_rows.copy()\n",
    "england_rows['Country'] = 'united kingdom - england'\n",
    "\n",
    "Programs = Programs[Programs['Country'].str.lower() != 'united kingdom']\n",
    "\n",
    "Programs = pd.concat([Programs, scotland_rows, england_rows], ignore_index=True)"
   ]
  },
  {
   "cell_type": "code",
   "execution_count": 288,
   "id": "dbc9f293-50d0-4e52-9960-356b78877fab",
   "metadata": {},
   "outputs": [],
   "source": [
    "Programs\n",
    "Programs.to_csv('/Users/kaciechong/Desktop/programs_cleaned.csv', index=False)"
   ]
  },
  {
   "cell_type": "code",
   "execution_count": 298,
   "id": "9c31785c-8b8f-43ac-b5dd-22cc564e6412",
   "metadata": {},
   "outputs": [],
   "source": [
    "## Cleaning Sex df"
   ]
  },
  {
   "cell_type": "code",
   "execution_count": 299,
   "id": "80abcc2e-0a62-4804-9782-fe339fb611c1",
   "metadata": {},
   "outputs": [],
   "source": [
    "Sex = pd.read_csv('/Users/kaciechong/Desktop/Nexus/Sex.csv')"
   ]
  },
  {
   "cell_type": "code",
   "execution_count": 300,
   "id": "ee12cced-f084-4433-8521-136831848cc9",
   "metadata": {},
   "outputs": [],
   "source": [
    "Sex = Sex.rename(columns={'Unnamed: 0': 'Country'})\n",
    "Sex = Sex.rename(columns={'Sex': 'Male'})\n",
    "Sex = Sex.rename(columns={'Sex.1': 'Female'})\n",
    "Sex = Sex.rename(columns={'Sex.2': 'Unknown'})\n",
    "\n",
    "Sex = Sex.drop('Unknown', axis=1)\n",
    "Sex['Country'] = Sex['Country'].str.lower()"
   ]
  },
  {
   "cell_type": "code",
   "execution_count": 301,
   "id": "c2fe9458-e7bd-49ea-993c-c3d4b3edef32",
   "metadata": {},
   "outputs": [],
   "source": [
    "Sex['Country'] = Sex['Country'].str.split(' & ')\n",
    "\n",
    "Sex = Sex.explode('Country').reset_index(drop=True)\n",
    "\n",
    "Sex['Country'] = Sex['Country'].str.split(', ')\n",
    "\n",
    "Sex = Sex.explode('Country').reset_index(drop=True)\n",
    "\n",
    "Sex = Sex.drop(0)\n",
    "Sex = Sex.drop('Sex.3', axis=1)"
   ]
  },
  {
   "cell_type": "code",
   "execution_count": 302,
   "id": "556fce57-a9e1-411d-a168-7e41a7adb1d4",
   "metadata": {},
   "outputs": [],
   "source": [
    "Sex = Sex.groupby('Country', as_index=False).agg({\n",
    "    'Male': 'sum',                \n",
    "    'Female': 'sum'\n",
    "})"
   ]
  },
  {
   "cell_type": "code",
   "execution_count": 303,
   "id": "4b56a9ed-e4cd-4a29-b882-e5c189d16845",
   "metadata": {},
   "outputs": [],
   "source": [
    "Sex = Sex.drop(21)\n",
    "Sex = Sex.drop(56)\n",
    "Sex = Sex.drop(62)"
   ]
  },
  {
   "cell_type": "code",
   "execution_count": 304,
   "id": "cee6bd12-6094-4261-9194-ea0682c18470",
   "metadata": {},
   "outputs": [],
   "source": [
    "Sex.to_csv('/Users/kaciechong/Desktop/sex_cleaned.csv', index=False)"
   ]
  },
  {
   "cell_type": "code",
   "execution_count": 306,
   "id": "187e79df-b9cf-4041-9314-29b6aaf795a3",
   "metadata": {},
   "outputs": [],
   "source": [
    "merged = pd.merge(Sex, Programs, on='Country', how='inner')\n",
    "merged.to_csv('/Users/kaciechong/Desktop/merged.csv', index=False)"
   ]
  },
  {
   "cell_type": "code",
   "execution_count": 307,
   "id": "55ebf605-82c9-43aa-a849-d8697c8b769a",
   "metadata": {},
   "outputs": [],
   "source": [
    "merged = merged.drop(19)\n",
    "merged = merged.drop(71)\n",
    "merged = merged.drop(159)\n",
    "merged = merged.drop(178)\n",
    "merged = merged.drop(179)\n",
    "merged = merged.drop(277)"
   ]
  },
  {
   "cell_type": "code",
   "execution_count": 308,
   "id": "6858f322-41a2-4d22-aeb6-92218cb957e5",
   "metadata": {},
   "outputs": [],
   "source": [
    "## FINISHED PREPPING DF"
   ]
  }
 ],
 "metadata": {
  "kernelspec": {
   "display_name": "Python 3 (ipykernel)",
   "language": "python",
   "name": "python3"
  },
  "language_info": {
   "codemirror_mode": {
    "name": "ipython",
    "version": 3
   },
   "file_extension": ".py",
   "mimetype": "text/x-python",
   "name": "python",
   "nbconvert_exporter": "python",
   "pygments_lexer": "ipython3",
   "version": "3.12.6"
  }
 },
 "nbformat": 4,
 "nbformat_minor": 5
}
